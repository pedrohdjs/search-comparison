{
 "cells": [
  {
   "cell_type": "markdown",
   "metadata": {},
   "source": [
    "# Dependências"
   ]
  },
  {
   "cell_type": "code",
   "execution_count": null,
   "metadata": {},
   "outputs": [],
   "source": [
    "# Importação dos módulos utilitários\n",
    "import sys\n",
    "UTILS_DIRECTORY = \"./lib/\"\n",
    "sys.path.append(UTILS_DIRECTORY)\n",
    "\n",
    "# Dependências\n",
    "from maze import Maze, DEFAULT_MAZES\n",
    "import numpy as np\n",
    "\n",
    "# Imprime os resultados de uma busca\n",
    "def print_search_results(search_name : str, times : tuple[int]) -> None:\n",
    "    print(search_name, \"- tempo total: {}\".format(np.sum(times)))\n",
    "    for i, time in enumerate(times):\n",
    "        print(\"Quantia de iterações para encontrar a fruta {}: {}\".format(i, time))"
   ]
  },
  {
   "cell_type": "code",
   "execution_count": null,
   "metadata": {},
   "outputs": [],
   "source": [
    "# Labirinto\n",
    "# template : DEFAULT_MAZES[i] -> Small(i=0), Medium(i=1), Large(i=2)\n",
    "template = DEFAULT_MAZES[2]\n",
    "maze = Maze(template, on_terminal=False)\n",
    "maze.print()"
   ]
  },
  {
   "cell_type": "code",
   "execution_count": null,
   "metadata": {},
   "outputs": [],
   "source": [
    "# Breadth First Search\n",
    "times = maze.start_bfs()\n",
    "print_search_results(\"BUSCA EM LARGURA\", times)\n",
    "maze.set_template(template)"
   ]
  },
  {
   "cell_type": "code",
   "execution_count": null,
   "metadata": {},
   "outputs": [],
   "source": [
    "# Labirinto (A*)\n",
    "times = maze.start_a_star_search()\n",
    "print_search_results(\"BUSCA A*\", times)\n",
    "maze.set_template(template)"
   ]
  },
  {
   "cell_type": "code",
   "execution_count": null,
   "metadata": {},
   "outputs": [],
   "source": []
  }
 ],
 "metadata": {
  "kernelspec": {
   "display_name": "Python 3.9.12 ('standard_environment')",
   "language": "python",
   "name": "python3"
  },
  "language_info": {
   "codemirror_mode": {
    "name": "ipython",
    "version": 3
   },
   "file_extension": ".py",
   "mimetype": "text/x-python",
   "name": "python",
   "nbconvert_exporter": "python",
   "pygments_lexer": "ipython3",
   "version": "3.9.12"
  },
  "orig_nbformat": 4,
  "vscode": {
   "interpreter": {
    "hash": "8e287d07a5b23f74e16f88f4098195598a7184e1f27f2a36b009c5ead2189863"
   }
  }
 },
 "nbformat": 4,
 "nbformat_minor": 2
}
